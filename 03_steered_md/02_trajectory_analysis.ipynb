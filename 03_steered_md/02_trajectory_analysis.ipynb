{
 "cells": [
  {
   "cell_type": "markdown",
   "id": "continent-holder",
   "metadata": {},
   "source": [
    "# Steered MD in BioSimSpace"
   ]
  },
  {
   "cell_type": "markdown",
   "id": "35039b0f",
   "metadata": {},
   "source": [
    "This notebook covers analysing sMD trajectories after the run has finished.\n",
    "\n",
    "**<span style=\"color:teal\">Reading Time:</span>**\n",
    "~ 15 mins"
   ]
  },
  {
   "cell_type": "markdown",
   "id": "49dae409",
   "metadata": {},
   "source": [
    "### Maintainers\n",
    "- Adele Hardie -- adele.hardie@ed.ac.uk (@AdeleHardie)\n",
    "\n",
    "### Prerequisites\n",
    "\n",
    "- Basic Python and bash\n",
    "- A completed sMD run\n",
    "\n",
    "### Learning Objectives\n",
    "\n",
    "- Analyse the steered MD trajectory\n",
    "\n",
    "### Table of Contents\n",
    "1. [Introduction](#intro)       \n",
    "2. [Plot steering output](#plotting)<br>\n",
    "    2.1 [Successful steering](#success)<br>\n",
    "    2.2 [Failed steering](#failed)     \n",
    "3. [Extract snapshots](#snapshots)   \n",
    "   \n",
    "    \n",
    "### Further reading for this topic\n",
    "- [Applying sMD to study allosteric modulation](https://www.nature.com/articles/s42004-023-00926-1)\n",
    "\n",
    "**<span style=\"color:black\">Jupyter Cheat Sheet</span>**\n",
    "- To run the currently highlighted cell and move focus to the next cell, hold <kbd>&#x21E7; Shift</kbd> and press <kbd>&#x23ce; Enter</kbd>;\n",
    "- To run the currently highlighted cell and keep focus in the same cell, hold <kbd>&#x21E7; Ctrl</kbd> and press <kbd>&#x23ce; Enter</kbd>;\n",
    "- To get help for a specific function, place the cursor within the function's brackets, hold <kbd>&#x21E7; Shift</kbd>, and press <kbd>&#x21E5; Tab</kbd>;\n",
    "\n",
    "### Link to documentation:\n",
    "You can find the full documentation at [biosimspace.org](https://biosimspace.org)."
   ]
  },
  {
   "cell_type": "markdown",
   "id": "f6f81906",
   "metadata": {},
   "source": [
    "## 1. Introduction\n",
    "<div id=\"intro\">"
   ]
  },
  {
   "cell_type": "markdown",
   "id": "liquid-antibody",
   "metadata": {},
   "source": [
    "The purpose of the steered MD simulation is to access conformational space that would take a very long time (or be inaccessible altogether) at equilibrium. To generate the data for the Markov State Model, we need to see how the system behaves given some starting conformation. To do this, we will be running seeded MD simulations, where a snapshot from the sMD trajectory is used as a starting point for an equilibrium MD simulation."
   ]
  },
  {
   "cell_type": "markdown",
   "id": "52bc5f1b",
   "metadata": {},
   "source": [
    "Let's download the inputs for the tutorial if necessary"
   ]
  },
  {
   "cell_type": "code",
   "execution_count": null,
   "id": "24332e04",
   "metadata": {},
   "outputs": [],
   "source": [
    "from get_tutorial import download\n",
    "download()"
   ]
  },
  {
   "cell_type": "markdown",
   "id": "violent-sessions",
   "metadata": {},
   "source": [
    "Start by importing required libraries:"
   ]
  },
  {
   "cell_type": "code",
   "execution_count": null,
   "id": "infinite-techno",
   "metadata": {},
   "outputs": [],
   "source": [
    "import pandas as pd\n",
    "import numpy as np\n",
    "import matplotlib.pyplot as plt\n",
    "import BioSimSpace as BSS\n",
    "import os"
   ]
  },
  {
   "cell_type": "markdown",
   "id": "engaging-quantum",
   "metadata": {},
   "source": [
    "## 2. Plot steering output\n",
    "<div id=\"plot\">"
   ]
  },
  {
   "cell_type": "markdown",
   "id": "1bb8538d",
   "metadata": {},
   "source": [
    "### 2.1 Successful steering\n",
    "<div id=\"success\">"
   ]
  },
  {
   "cell_type": "markdown",
   "id": "rational-sullivan",
   "metadata": {},
   "source": [
    "PLUMED outputs a file with the CV value that was used for steering, so we can see the progression during the simulation. The file is automatically named `COLVAR` by BioSimSpace. Here it is loaded as a pandas dataframe."
   ]
  },
  {
   "cell_type": "code",
   "execution_count": null,
   "id": "threatened-rouge",
   "metadata": {},
   "outputs": [],
   "source": [
    "steering_output_file = \"data/COLVAR\"\n",
    "df = pd.read_csv(steering_output_file, sep=\" \")\n",
    "cols = list(df.columns[2:])\n",
    "df = pd.read_csv(steering_output_file, sep=\" \", comment=\"#\", names=cols)"
   ]
  },
  {
   "cell_type": "code",
   "execution_count": null,
   "id": "775574a2",
   "metadata": {},
   "outputs": [],
   "source": [
    "df.head()"
   ]
  },
  {
   "cell_type": "markdown",
   "id": "332fede2",
   "metadata": {},
   "source": [
    "The `COLVAR` file contains all of the CV values (`r1,t1,d1`), as well as more information on the force applied and work done."
   ]
  },
  {
   "cell_type": "markdown",
   "id": "expanded-margin",
   "metadata": {},
   "source": [
    "PLUMED outputs time in picoseconds and RMSD in nanometers. For easier plotting, we change time to nanoseconds and distances to Angstrom."
   ]
  },
  {
   "cell_type": "code",
   "execution_count": null,
   "id": "southwest-ticket",
   "metadata": {},
   "outputs": [],
   "source": [
    "df[\"time\"] = df[\"time\"] / 1000\n",
    "df[\"r1\"] = df[\"r1\"] * 10\n",
    "df[\"d1\"] = df[\"d1\"] * 10\n",
    "df.set_index(\"time\", inplace=True)"
   ]
  },
  {
   "cell_type": "markdown",
   "id": "unlike-article",
   "metadata": {},
   "source": [
    "Now the CV changes can be plotted:"
   ]
  },
  {
   "cell_type": "code",
   "execution_count": null,
   "id": "medical-magnet",
   "metadata": {},
   "outputs": [],
   "source": [
    "fig, ax = plt.subplots(3, figsize=(12, 12))\n",
    "\n",
    "columns = [\"r1\", \"t1\", \"d1\"]\n",
    "ylabels = [\"RMSD/$\\AA$\", \"Dihedral/radians\", \"Distance/$\\AA$\"]\n",
    "\n",
    "for i in range(len(columns)):\n",
    "    ax[i].plot(df.index, df[columns[i]], alpha=0.7)\n",
    "    ax[i].set_ylabel(ylabels[i])\n",
    "    ax[i].set_xlabel(\"time/ns\")\n",
    "    ax[i].set_xlim(0, 152)\n",
    "\n",
    "fig.tight_layout()"
   ]
  },
  {
   "cell_type": "markdown",
   "id": "9484a1d1",
   "metadata": {},
   "source": [
    "<img src=\"figures/COLVAR_all.png\">"
   ]
  },
  {
   "cell_type": "markdown",
   "id": "different-tennessee",
   "metadata": {},
   "source": [
    "Here the loop RMSD went down to below 2 A (around 1.8 A). This indicates that the loop conformation was very similar to the crystal structure of PTP1B with the loop closed (which was used as the target) and so we can proceed with extracting snapshots to use as seeds. Additionally, the Tyr152 $\\chi$1 angle was kept in the \"down\" rotamer consistently (around 1.1 radians) and the Phe196(C$\\gamma$)-Phe280(C$\\gamma$) distance was decreased to 4 A, which corresponds to the two residues $\\pi$-stacking."
   ]
  },
  {
   "cell_type": "markdown",
   "id": "54345c98",
   "metadata": {},
   "source": [
    "### 2.2 Failed steering\n",
    "<div id=\"failed\">"
   ]
  },
  {
   "cell_type": "markdown",
   "id": "bdb61ac4",
   "metadata": {},
   "source": [
    "However, sMD might not work on the first try - the steering duration and force constant used is highly dependent on each individual system. Below is an example of a failed WPD loop RMSD steering attempt:"
   ]
  },
  {
   "cell_type": "markdown",
   "id": "national-electronics",
   "metadata": {},
   "source": [
    "<img src=\"figures/COLVAR_failed.png\">"
   ]
  },
  {
   "cell_type": "markdown",
   "id": "electronic-talent",
   "metadata": {},
   "source": [
    "Here steering was carried out for 80 ns only, and the force constant used was 2500 kJ mol$^{-1}$. The RMSD was decreasing as expected, but didn't go below 2 A. This was deemed insufficient and a longer steering protocol with a larger force constant was decided upon in the end. Ultimately this will depend on the system you are working with and what the goal of the steering is."
   ]
  },
  {
   "cell_type": "markdown",
   "id": "standard-buffer",
   "metadata": {},
   "source": [
    "## 3. Extract snapshots\n",
    "<div id=\"snapshots\">"
   ]
  },
  {
   "cell_type": "markdown",
   "id": "6717666a",
   "metadata": {},
   "source": [
    "There are multiple possible applications of sMD. Here we illustrate the enhanced sampling of conformational space, to study the conformational ensemble of PTP1B and how it may be perturbed by ligands (i.e. allosteric modulators). The sMD trajectory reaches not only active and inactive states of PTP1B, but also the short-lived intermediate conformations. We use these as seeds for further MD simulations, which are then combined in a Markov State Model. This allows to model the probability of protein active states."
   ]
  },
  {
   "cell_type": "markdown",
   "id": "alternative-palestine",
   "metadata": {},
   "source": [
    "In this case we will be extracting 100 evenly spaced snapshots to be used as starting points for the seeded MD simulations."
   ]
  },
  {
   "cell_type": "code",
   "execution_count": null,
   "id": "rolled-grove",
   "metadata": {},
   "outputs": [],
   "source": [
    "snapshot_dir = \"data\"\n",
    "if not os.path.exists(snapshot_dir):\n",
    "    os.mkdir(snapshot_dir)"
   ]
  },
  {
   "cell_type": "markdown",
   "id": "micro-chicago",
   "metadata": {},
   "source": [
    "Get frame indices for snapshots. Note that the end point selected is not the end of the simulation, but the end of the steering part."
   ]
  },
  {
   "cell_type": "markdown",
   "id": "8af3b1c9",
   "metadata": {},
   "source": [
    "We have provided an example steered MD trajectory in `data/steering.nc`. For ease of downloading, it has been significantly cut down, with each frame corresponding to 0.5 ns, while it is more common to save trajectories every 5-10 ps. This is reflected in dividing the duration in ns by the frame rate in ns below."
   ]
  },
  {
   "cell_type": "code",
   "execution_count": null,
   "id": "photographic-matrix",
   "metadata": {},
   "outputs": [],
   "source": [
    "number_of_snapshots = 100\n",
    "end = 150 / 0.5\n",
    "frames = np.linspace(0, end, number_of_snapshots, dtype=int)"
   ]
  },
  {
   "cell_type": "markdown",
   "id": "24b754fc",
   "metadata": {},
   "source": [
    "Check that the snapshots roughly evenly sample the CVs:"
   ]
  },
  {
   "cell_type": "code",
   "execution_count": null,
   "id": "629a98a6",
   "metadata": {},
   "outputs": [],
   "source": [
    "fig, ax = plt.subplots(3, figsize=(12, 12))\n",
    "\n",
    "columns = [\"r1\", \"t1\", \"d1\"]\n",
    "ylabels = [\"RMSD/$\\AA$\", \"Dihedral/radians\", \"Distance/$\\AA$\"]\n",
    "\n",
    "for i in range(len(columns)):\n",
    "    ax[i].plot(df.index[frames]*100, df.iloc[frames][columns[i]], alpha=0.7)\n",
    "    ax[i].set_ylabel(ylabels[i])\n",
    "    ax[i].set_xlabel(\"time/ns\")\n",
    "    ax[i].set_xlim(0, 150)\n",
    "\n",
    "fig.tight_layout()"
   ]
  },
  {
   "cell_type": "markdown",
   "id": "f840f59f",
   "metadata": {},
   "source": [
    "<img src=\"figures/COLVAR_snapshots.png\">"
   ]
  },
  {
   "cell_type": "markdown",
   "id": "colonial-gazette",
   "metadata": {},
   "source": [
    "Save each snapshot as a restart file:"
   ]
  },
  {
   "cell_type": "code",
   "execution_count": null,
   "id": "generic-cooperation",
   "metadata": {},
   "outputs": [],
   "source": [
    "for i, index in enumerate(frames):\n",
    "    frame = BSS.Trajectory.getFrame(\n",
    "        trajectory=\"/home/adele/Documents/PTP1B/steering.nc\",\n",
    "        topology=\"/home/adele/Documents/PTP1B/system.prm7\",\n",
    "        index=int(index),\n",
    "    )\n",
    "    BSS.IO.saveMolecules(f\"{snapshot_dir}/snapshot_{i+1}\", frame, \"rst7\")"
   ]
  },
  {
   "cell_type": "markdown",
   "id": "directed-access",
   "metadata": {},
   "source": [
    "These .rst7 files are to be used as starting points for 100 individual 50 ns simulations, starting with resolvation, minimisation and equilibration. This is very time consuming and best done on an HPC cluster. An [example script](scripts/seededMD.py) that can be used with an array submission is provided."
   ]
  },
  {
   "cell_type": "markdown",
   "id": "700498fb",
   "metadata": {},
   "source": [
    "<div class=\"alert alert-info\"><b>Note:</b> Since the .rst7 files are of the original system, the same topology is reused throughout</div>"
   ]
  },
  {
   "cell_type": "markdown",
   "id": "c989259a",
   "metadata": {},
   "source": [
    "There is a lot to consider when building MSMs, and the method is not covered in this tutorial. Here the python library [PyEMMA](http://emma-project.org/latest/) was used, which has extensive examples and documentation. The integration of sMD in this allosteric modulation prediction workflow is illustrated below:\n",
    "\n",
    "<img src=\"figures/ensemble-md-protocol.png\" width=400>\n",
    "\n",
    "[Hardie *et al*](https://www.nature.com/articles/s42004-023-00926-1) report a detailed study of allosteric modulators of PTP1B using this sMD/MSM methodology."
   ]
  }
 ],
 "metadata": {
  "kernelspec": {
   "display_name": "Python 3 (ipykernel)",
   "language": "python",
   "name": "python3"
  },
  "language_info": {
   "codemirror_mode": {
    "name": "ipython",
    "version": 3
   },
   "file_extension": ".py",
   "mimetype": "text/x-python",
   "name": "python",
   "nbconvert_exporter": "python",
   "pygments_lexer": "ipython3",
   "version": "3.9.13"
  }
 },
 "nbformat": 4,
 "nbformat_minor": 5
}
