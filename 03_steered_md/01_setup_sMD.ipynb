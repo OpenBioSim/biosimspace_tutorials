{
 "cells": [
  {
   "cell_type": "markdown",
   "id": "6956b29a",
   "metadata": {},
   "source": [
    "# Steered MD in BioSimSpace"
   ]
  },
  {
   "cell_type": "markdown",
   "id": "4c931795",
   "metadata": {},
   "source": [
    "This notebook covers running steered molecular dynamics simulations using BioSimSpace. It includes both using one collective variable (CV) and multiple CVs.\n",
    "\n",
    "**<span style=\"color:teal\">Reading Time:</span>**\n",
    "~ 30 mins"
   ]
  },
  {
   "cell_type": "markdown",
   "id": "14004e25",
   "metadata": {},
   "source": [
    "### Maintainers\n",
    "- Adele Hardie -- adele.hardie@ed.ac.uk (@AdeleHardie)\n",
    "\n",
    "### Prerequisites\n",
    "\n",
    "- Basic Python and bash\n",
    "- Basic understanding of protein dynamics\n",
    "\n",
    "### Learning Objectives\n",
    "\n",
    "- Set up a steered MD simulation with a single CV\n",
    "- Set up a steered MD simulation with multiple CVs\n",
    "- Understand how BSS modifies the standard MD protocol to include a system bias via PLUMED\n",
    "\n",
    "### Table of Contents\n",
    "1. [Introduction](#intro)       \n",
    "2. [Setup sMD](#setup)   \n",
    "    2.1 [Single CV](#singlecv)     \n",
    "    2.2 [Multiple CVs](#multicv)    \n",
    "   \n",
    "    \n",
    "### Further reading for this topic\n",
    "- [Applying sMD to study allosteric modulation](https://www.nature.com/articles/s42004-023-00926-1)\n",
    "\n",
    "**<span style=\"color:black\">Jupyter Cheat Sheet</span>**\n",
    "- To run the currently highlighted cell and move focus to the next cell, hold <kbd>&#x21E7; Shift</kbd> and press <kbd>&#x23ce; Enter</kbd>;\n",
    "- To run the currently highlighted cell and keep focus in the same cell, hold <kbd>&#x21E7; Ctrl</kbd> and press <kbd>&#x23ce; Enter</kbd>;\n",
    "- To get help for a specific function, place the cursor within the function's brackets, hold <kbd>&#x21E7; Shift</kbd>, and press <kbd>&#x21E5; Tab</kbd>;\n",
    "\n",
    "### Link to documentation:\n",
    "You can find the full documentation at [biosimspace.org](https://biosimspace.org)."
   ]
  },
  {
   "cell_type": "markdown",
   "id": "47bc6f48",
   "metadata": {},
   "source": [
    "## 1. Introduction\n",
    "<div id=\"intro\">"
   ]
  },
  {
   "cell_type": "markdown",
   "id": "7e8aebb6",
   "metadata": {},
   "source": [
    "Many relevant biological processes, such as transmembrane permeation or transitions between active and inactive protein conformations, occur on a ${\\mu}s$-s timescale. However, even with GPU acceleration, the timescales accessible via molecular dynamics (MD) simulations are only a few hundred ns/day. One of the methods to get around this limitation is steered molecular dynamics (sMD). sMD involves applying a harmonic restraint to bias the system towards a conformation defined through one or more collective variables (CVs):\n",
    "\n",
    "$V(\\vec{s},t) = \\frac{1}{2} \\kappa(t) ( \\vec{s} - \\vec{s}_0(t) )^2$     (Eq. 1)\n",
    "\n",
    "where $\\kappa$ is the force constant, $\\vec{s}_0$ is the expected CV value at a specific timestep, and $\\vec{s}$ is the actual CV value at that timestep.\n",
    "\n",
    "This section of the tutorial involves using BioSimSpace to set up and run sMD simulations. BSS prepares input files for PLUMED, which is the software that works together with MD engines such as AMBER and GROMACS to add the restraint in eq 1.\n",
    "\n",
    "The protein that will be used as an example in this tutorial is protein tyrosine phosphatase 1B (PTP1B). It is a negative regulator of insulin signalling\\cite and is an attractive target for type II diabetes. The function of PTP1B depends on the conformation of its WPD loop, which can be closed (active, red) or open (inactive, yellow):\n",
    "\n",
    "<img src=\"figures/open-close.png\" width=300>\n",
    "\n",
    "The WPD loop of PTP1B opens and closes on a ${\\mu}s$ timescale, and therefore this transition is not observed on conventional computational timescales."
   ]
  },
  {
   "cell_type": "markdown",
   "id": "6600b8e8",
   "metadata": {},
   "source": [
    "## 2. Set up sMD\n",
    "<div id=\"setup\">"
   ]
  },
  {
   "cell_type": "markdown",
   "id": "11b611a5",
   "metadata": {},
   "source": [
    "### 2.1 Single CV\n",
    "<div id=\"singlecv\">"
   ]
  },
  {
   "cell_type": "markdown",
   "id": "6a64816c",
   "metadata": {},
   "source": [
    "Running steered MD in BioSimSpace is very similar to regular simulations already covered. It only requires some more preparation for interfacing with PLUMED, the software that takes care of biasing the Hamiltonian."
   ]
  },
  {
   "cell_type": "markdown",
   "id": "c7c1a235",
   "metadata": {},
   "source": [
    "Let's download the inputs for the tutorial if necessary "
   ]
  },
  {
   "cell_type": "code",
   "execution_count": null,
   "id": "5d5959c3",
   "metadata": {},
   "outputs": [],
   "source": [
    "from get_tutorial import download\n",
    "download(\"01\")"
   ]
  },
  {
   "cell_type": "markdown",
   "id": "73545d48",
   "metadata": {},
   "source": [
    "#### Setting up the system"
   ]
  },
  {
   "cell_type": "markdown",
   "id": "58fe918a",
   "metadata": {},
   "source": [
    "We start by importing the required libraries:"
   ]
  },
  {
   "cell_type": "code",
   "execution_count": null,
   "id": "179b6b2b",
   "metadata": {},
   "outputs": [],
   "source": [
    "import BioSimSpace as BSS\n",
    "import os\n",
    "from shutil import copyfile"
   ]
  },
  {
   "cell_type": "markdown",
   "id": "a65a479b",
   "metadata": {},
   "source": [
    "Load a system with BioSimSpace. This particular system is of PTP1B with the WPD loop open (from PDB entry 2HNP) and has been minimised and equilibrated."
   ]
  },
  {
   "cell_type": "code",
   "execution_count": null,
   "id": "5ffbeb19",
   "metadata": {},
   "outputs": [],
   "source": [
    "system = BSS.IO.readMolecules([\"data/system.prm7\", \"data/system.rst7\"])"
   ]
  },
  {
   "cell_type": "markdown",
   "id": "aa6ee8b1",
   "metadata": {},
   "source": [
    "#### Creating the CV"
   ]
  },
  {
   "cell_type": "markdown",
   "id": "f715ae59",
   "metadata": {},
   "source": [
    "Steered MD uses a specific CV, which in this case is RMSD of the WPD loop (residues 178-184). To calculate RMSD, we specify a reference structure first:"
   ]
  },
  {
   "cell_type": "code",
   "execution_count": null,
   "id": "1dd62943",
   "metadata": {},
   "outputs": [],
   "source": [
    "reference = BSS.IO.readMolecules(\"data/reference.pdb\").getMolecule(0)"
   ]
  },
  {
   "cell_type": "code",
   "execution_count": null,
   "id": "9f45911c",
   "metadata": {},
   "outputs": [],
   "source": [
    "rmsd_indices = []\n",
    "for residue in reference.getResidues():\n",
    "    if 178 <= residue.index() <= 184:\n",
    "        for atom in residue.getAtoms():\n",
    "            if atom.element() != \"Hydrogen (H, 1)\":\n",
    "                rmsd_indices.append(atom.index())"
   ]
  },
  {
   "cell_type": "code",
   "execution_count": null,
   "id": "c3e5fc61",
   "metadata": {},
   "outputs": [],
   "source": [
    "rmsd_cv = BSS.Metadynamics.CollectiveVariable.RMSD(system, reference, rmsd_indices)"
   ]
  },
  {
   "cell_type": "markdown",
   "id": "58132e63",
   "metadata": {},
   "source": [
    "#### Setting up a steered MD protocol"
   ]
  },
  {
   "cell_type": "markdown",
   "id": "f9853841",
   "metadata": {},
   "source": [
    "To create a protocol, we need to set up the steering restraints and schedule. As shown in equation 1, steered MD is defined by the expected CV value and the force constant &kappa; at some time *t*. Generally sMD has four stages:\n",
    "\n",
    "| Stage          | Expected end CV | Force constant  |\n",
    "| -------------- | --------------- | --------------- |\n",
    "| 1. start       | initial value   | none            |\n",
    "| 2. apply force | initial value   | specified force |\n",
    "| 3. steering    | target value    | specified force |\n",
    "| 4. relaxation  | target value    | none            |\n",
    "\n",
    "Force is usually applied over a few picoseconds, and the bulk of the simulation is used for steering, i.e. stage 3. We need to specify the end times for these stages:\n"
   ]
  },
  {
   "cell_type": "code",
   "execution_count": null,
   "id": "ee6b2ccc",
   "metadata": {},
   "outputs": [],
   "source": [
    "start = 0 * BSS.Units.Time.nanosecond\n",
    "apply_force = 4 * BSS.Units.Time.picosecond\n",
    "steer = 150 * BSS.Units.Time.nanosecond\n",
    "relax = 152 * BSS.Units.Time.nanosecond"
   ]
  },
  {
   "cell_type": "code",
   "execution_count": null,
   "id": "20bd4dd6",
   "metadata": {},
   "outputs": [],
   "source": [
    "schedule = [start, apply_force, steer, relax]"
   ]
  },
  {
   "cell_type": "markdown",
   "id": "c9e63774",
   "metadata": {},
   "source": [
    "The restraints specify the expected CV value and the force constant ($\\kappa(t)$ and $\\vec{s}_0(t)$) at each step created above."
   ]
  },
  {
   "cell_type": "code",
   "execution_count": null,
   "id": "439f07f8",
   "metadata": {},
   "outputs": [],
   "source": [
    "nm = BSS.Units.Length.nanometer\n",
    "restraint_1 = BSS.Metadynamics.Restraint(rmsd_cv.getInitialValue(), 0)\n",
    "restraint_2 = BSS.Metadynamics.Restraint(rmsd_cv.getInitialValue(), 3500)\n",
    "restraint_3 = BSS.Metadynamics.Restraint(0 * nm, 3500)\n",
    "restraint_4 = BSS.Metadynamics.Restraint(0 * nm, 0)"
   ]
  },
  {
   "cell_type": "code",
   "execution_count": null,
   "id": "a5c7d097",
   "metadata": {},
   "outputs": [],
   "source": [
    "protocol = BSS.Protocol.Steering(\n",
    "    rmsd_cv,\n",
    "    [start, apply_force, steer, relax],\n",
    "    [restraint_1, restraint_2, restraint_3, restraint_4],\n",
    "    runtime=152 * BSS.Units.Time.nanosecond,\n",
    ")"
   ]
  },
  {
   "cell_type": "markdown",
   "id": "78245f6d",
   "metadata": {},
   "source": [
    "#### A quick look at GROMACS"
   ]
  },
  {
   "cell_type": "markdown",
   "id": "49396cec",
   "metadata": {},
   "source": [
    "We have previously created a protocol for sMD, so all that is needed is to plug it into a GROMACS process"
   ]
  },
  {
   "cell_type": "code",
   "execution_count": null,
   "id": "dae8cf01",
   "metadata": {},
   "outputs": [],
   "source": [
    "process = BSS.Process.Gromacs(\n",
    "    system,\n",
    "    protocol)"
   ]
  },
  {
   "cell_type": "markdown",
   "id": "14a4a17e",
   "metadata": {},
   "source": [
    "We can have a look at the command arguments that will be used to run this simulation:"
   ]
  },
  {
   "cell_type": "code",
   "execution_count": null,
   "id": "e7fb1b04",
   "metadata": {},
   "outputs": [],
   "source": [
    "process.getArgs()"
   ]
  },
  {
   "cell_type": "markdown",
   "id": "dd23d7a2",
   "metadata": {},
   "source": [
    "The argument `-plumed plumed.dat` tells GROMACS to use PLUMED, looking at the `plumed.dat` file for instructions. This process can be run like any other process you have seen before. All the required files have been created in the `process.workDir()` by BioSimSpace."
   ]
  },
  {
   "cell_type": "markdown",
   "id": "0e07cae2",
   "metadata": {},
   "source": [
    "#### Steered MD in AMBER"
   ]
  },
  {
   "cell_type": "markdown",
   "id": "5e16152b",
   "metadata": {},
   "source": [
    "Just as with GROMACS, we simply need to create a process in AMBER. If you have access to pmemd.cuda use of this engine can be specified by passing the keyword argument exe=f'{os.environ[\"AMBERHOME\"]}/bin/pmemd.cuda'."
   ]
  },
  {
   "cell_type": "code",
   "execution_count": null,
   "id": "397a49e0",
   "metadata": {},
   "outputs": [],
   "source": [
    "process = BSS.Process.Amber(\n",
    "    system, protocol)"
   ]
  },
  {
   "cell_type": "markdown",
   "id": "bd1e9e3f",
   "metadata": {},
   "source": [
    "Check the configuration of the process:"
   ]
  },
  {
   "cell_type": "code",
   "execution_count": null,
   "id": "d8ab7166",
   "metadata": {},
   "outputs": [],
   "source": [
    "process.getConfig()"
   ]
  },
  {
   "cell_type": "markdown",
   "id": "77d2b36f",
   "metadata": {},
   "source": [
    "The lines `plumed=1` and `plumedfile=\"plumed.in\"` are what specify that PLUMED will be used. The process can now be started to run steered MD."
   ]
  },
  {
   "cell_type": "markdown",
   "id": "39060772",
   "metadata": {},
   "source": [
    "For convenience, we provide a python script in `scripts/sMD_simple.py`, which will work for any system using a single RMSD CV. Additionally, `scripts/sMD_slurm.sh` and `scripts/sMD_LFS.sh` show how the python scripts using BSS can be executed using schedulers for HPC clusters."
   ]
  },
  {
   "cell_type": "markdown",
   "id": "2ebe94d1",
   "metadata": {},
   "source": [
    "### 2.2 Multiple CVs\n",
    "<div id=\"multiplecvs\">"
   ]
  },
  {
   "cell_type": "markdown",
   "id": "ee25c745",
   "metadata": {},
   "source": [
    "The above setup example uses one collective variable - the RMSD of the WPD loop. However, there may be need for more complicated steering protocols, involving multiple CVs. Below we set up an sMD protocol using the previous rmsd CV, but also adding a torsion and a distance CVs."
   ]
  },
  {
   "cell_type": "markdown",
   "id": "4127b67b",
   "metadata": {},
   "source": [
    "#### Torsion CV"
   ]
  },
  {
   "cell_type": "markdown",
   "id": "1711b496",
   "metadata": {},
   "source": [
    "We will be adding the $\\chi$ 1 angle of Tyr152 to the steering protocol. Tyr152 is suggested to be part of the PTP1B allosteric network. When the WPD loop is open (blue), it exists in both \"up\" and \"down\" rotamers, but when it is closed (orange), Tyr152 exists in the \"down\" rotamer only.\n",
    "\n",
    "<img src=\"figures/tyr152.png\" width=250>"
   ]
  },
  {
   "cell_type": "code",
   "execution_count": null,
   "id": "5d5b4eea",
   "metadata": {},
   "outputs": [],
   "source": [
    "torsion_indices = []\n",
    "for atom in system.getMolecule(0).getResidues()[152].getAtoms():\n",
    "    if atom.name() in [\"N\", \"CA\", \"CB\", \"CG\"]:\n",
    "        torsion_indices.append(atom.index())"
   ]
  },
  {
   "cell_type": "code",
   "execution_count": null,
   "id": "c12229ca",
   "metadata": {},
   "outputs": [],
   "source": [
    "torsion_cv = BSS.Metadynamics.CollectiveVariable.Torsion(torsion_indices)"
   ]
  },
  {
   "cell_type": "markdown",
   "id": "d0c527ad",
   "metadata": {},
   "source": [
    "#### Distance CV"
   ]
  },
  {
   "cell_type": "markdown",
   "id": "3598e5d8",
   "metadata": {},
   "source": [
    "Another component of the allosteric network of PTP1B is the stacking of Phe196 to Phe280. These residues are $\\pi$-stacked when the WPD loop is closed (orange) and apart when it is open (blue).\n",
    "\n",
    "<img src=\"figures/phe196.png\" width=250>\n",
    "\n",
    "This stacking will be expressed as the distance between the C$\\gamma$ atoms the the residues."
   ]
  },
  {
   "cell_type": "code",
   "execution_count": null,
   "id": "3c2d78bb",
   "metadata": {},
   "outputs": [],
   "source": [
    "distance_indices = []\n",
    "for residue in system.getMolecule(0).getResidues():\n",
    "    if residue.index() == 196 or residue.index() == 280:\n",
    "        for atom in residue.getAtoms():\n",
    "            if atom.name() == \"CG\":\n",
    "                distance_indices.append(atom.index())\n",
    "                break\n",
    "\n",
    "distance_cv = BSS.Metadynamics.CollectiveVariable.Distance(\n",
    "    distance_indices[0], distance_indices[1]\n",
    ")"
   ]
  },
  {
   "cell_type": "markdown",
   "id": "4fdca011",
   "metadata": {},
   "source": [
    "#### Creating the protocol"
   ]
  },
  {
   "cell_type": "markdown",
   "id": "8a68ee7d",
   "metadata": {},
   "source": [
    "The restraints now have to include target values for all CVs involved at each point in the schedule."
   ]
  },
  {
   "cell_type": "code",
   "execution_count": null,
   "id": "d9f0110a",
   "metadata": {},
   "outputs": [],
   "source": [
    "nm = BSS.Units.Length.nanometer\n",
    "rad = BSS.Units.Angle.radian"
   ]
  },
  {
   "cell_type": "code",
   "execution_count": null,
   "id": "f69beffb",
   "metadata": {},
   "outputs": [],
   "source": [
    "restraints = [\n",
    "    [\n",
    "        BSS.Metadynamics.Restraint(rmsd_cv.getInitialValue(), 0),\n",
    "        BSS.Metadynamics.Restraint(1.1 * rad, 0),\n",
    "        BSS.Metadynamics.Restraint(0.56 * nm, 0),\n",
    "    ],  # initial\n",
    "    [\n",
    "        BSS.Metadynamics.Restraint(rmsd_cv.getInitialValue(), 3500),\n",
    "        BSS.Metadynamics.Restraint(1.1 * rad, 3500),\n",
    "        BSS.Metadynamics.Restraint(0.56 * nm, 3500),\n",
    "    ],  # apply force\n",
    "    [\n",
    "        BSS.Metadynamics.Restraint(0 * nm, 3500),\n",
    "        BSS.Metadynamics.Restraint(1.1 * rad, 3500),\n",
    "        BSS.Metadynamics.Restraint(0.4 * nm, 3500),\n",
    "    ],  # steering\n",
    "    [\n",
    "        BSS.Metadynamics.Restraint(0 * nm, 0),\n",
    "        BSS.Metadynamics.Restraint(1.1 * rad, 0),\n",
    "        BSS.Metadynamics.Restraint(0.4 * nm, 0),\n",
    "    ],\n",
    "]  # release force"
   ]
  },
  {
   "cell_type": "markdown",
   "id": "ffc788c2",
   "metadata": {},
   "source": [
    "When creating the `protocol`, all CVs are passed as a list:"
   ]
  },
  {
   "cell_type": "code",
   "execution_count": null,
   "id": "b565ce15",
   "metadata": {},
   "outputs": [],
   "source": [
    "protocol = BSS.Protocol.Steering(\n",
    "    [rmsd_cv, torsion_cv, distance_cv],\n",
    "    schedule,\n",
    "    restraints,\n",
    "    runtime=relax,\n",
    "    report_interval=2500,\n",
    "    restart_interval=2500,\n",
    ")"
   ]
  },
  {
   "cell_type": "code",
   "execution_count": null,
   "id": "fe3a6449",
   "metadata": {},
   "outputs": [],
   "source": [
    "# pass exe=f'{os.environ[\"AMBERHOME\"]}/bin/pmemd.cuda to use the faster MD engine pmemd\n",
    "process = BSS.Process.Amber(\n",
    "    system, protocol)"
   ]
  },
  {
   "cell_type": "markdown",
   "id": "e5b7b119",
   "metadata": {},
   "source": [
    "We can check the contents of the PLUMED file that BioSimSpace has created:"
   ]
  },
  {
   "cell_type": "code",
   "execution_count": null,
   "id": "c69caea2",
   "metadata": {},
   "outputs": [],
   "source": [
    "for line in process.getPlumedConfig():\n",
    "    print(line)"
   ]
  },
  {
   "cell_type": "markdown",
   "id": "1e4f4d68",
   "metadata": {},
   "source": [
    "The `ARG` line specifies 3 CVs, which will all be used for steering."
   ]
  },
  {
   "cell_type": "markdown",
   "id": "6862fac3",
   "metadata": {},
   "source": [
    "The process can be run with `process.start()`"
   ]
  },
  {
   "cell_type": "markdown",
   "id": "062d3ca3",
   "metadata": {},
   "source": [
    "<div class=\"alert alert-info\"><b>Note:</b> The trajectory analysis is covered in the next notebook</div>"
   ]
  },
  {
   "cell_type": "markdown",
   "id": "fc626c36",
   "metadata": {},
   "source": [
    "As with the single CV protocol, there is a sample script in `scripts/sMD_multiCV.py`. Because of the multiple CVs used the script is specific to PTP1B, but it can be easily adapted to other systems by changing CV types or residue numbers."
   ]
  },
  {
   "cell_type": "markdown",
   "id": "95a705c0",
   "metadata": {},
   "source": [
    "⚠️ BioSimSpace only includes RMSD, torsion and distance CVs. For more complex steering protocols, you can either use [PLUMED](https://www.plumed.org/doc-v2.8/user-doc/html/_m_o_v_i_n_g_r_e_s_t_r_a_i_n_t.html) directly, or see [AMMo](https://github.com/michellab/AMMo/tree/main/examples/example_ptp1b) for a more flexible but still slightly automated approach using pseudo-PLUMED files."
   ]
  }
 ],
 "metadata": {
  "kernelspec": {
   "display_name": "Python 3 (ipykernel)",
   "language": "python",
   "name": "python3"
  },
  "language_info": {
   "codemirror_mode": {
    "name": "ipython",
    "version": 3
   },
   "file_extension": ".py",
   "mimetype": "text/x-python",
   "name": "python",
   "nbconvert_exporter": "python",
   "pygments_lexer": "ipython3",
   "version": "3.9.13"
  },
  "vscode": {
   "interpreter": {
    "hash": "2e311702793db1e2cbdbca1b4af01943df9920d13b5c28949f5d0bcf0a016590"
   }
  }
 },
 "nbformat": 4,
 "nbformat_minor": 5
}
