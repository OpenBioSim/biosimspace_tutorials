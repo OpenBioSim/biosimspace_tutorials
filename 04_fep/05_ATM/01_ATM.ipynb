{
 "cells": [
  {
   "cell_type": "markdown",
   "id": "2a047a76",
   "metadata": {},
   "source": [
    "# Part 1 - System setup and visualisation"
   ]
  },
  {
   "cell_type": "markdown",
   "id": "e2b440b8",
   "metadata": {},
   "source": [
    "This section of the tutorial will cover setting up an ATM-compatible system within BioSimSpace, and visualising the system, as well as the choices made during setup."
   ]
  },
  {
   "cell_type": "markdown",
   "id": "a53b5669",
   "metadata": {},
   "source": [
    "First, import BioSimSpace"
   ]
  },
  {
   "cell_type": "code",
   "execution_count": null,
   "id": "16fb16b0-0f44-4911-9baa-3c43a4d678df",
   "metadata": {},
   "outputs": [],
   "source": [
    "import BioSimSpace as BSS"
   ]
  },
  {
   "cell_type": "markdown",
   "id": "f4b3e428",
   "metadata": {},
   "source": [
    "In order speed things up, this tutorial will use pre-parameterised proteins and ligands. It is however possible to parameterise molecules from a variety of file formats yourself using functionality in `BioSimSpace.IO` and `BioSimSpace.Parameters`."
   ]
  },
  {
   "cell_type": "code",
   "execution_count": null,
   "id": "298c8ccc",
   "metadata": {},
   "outputs": [],
   "source": [
    "# Use BioSimSpace IO to read inputs, specifically the pre-parameterised protein and pair of ligands.\n",
    "url = BSS.tutorialUrl()\n",
    "protein = BSS.IO.readMolecules([f\"{url}/tyk2.prm7\", f\"{url}/tyk2.rst7\"])[0]\n",
    "ligand_bound = BSS.IO.readMolecules([f\"{url}/ejm_31.prm7\", f\"{url}/ejm_31.rst7\"])[0]\n",
    "ligand_free = BSS.IO.readMolecules([f\"{url}/ejm_43.prm7\", f\"{url}/ejm_43.rst7\"])[0]"
   ]
  },
  {
   "cell_type": "code",
   "execution_count": null,
   "id": "52195340",
   "metadata": {},
   "outputs": [],
   "source": [
    "# We also need to download the example output files\n",
    "from get_tutorial import download\n",
    "\n",
    "download(\"01\")"
   ]
  },
  {
   "cell_type": "markdown",
   "id": "934a1388",
   "metadata": {},
   "source": [
    "The protein used in this case is tyrosine kynase 2, or TYK2, a common benchmark system for binding free energy calculations."
   ]
  },
  {
   "cell_type": "code",
   "execution_count": null,
   "id": "56a4ba94",
   "metadata": {},
   "outputs": [],
   "source": [
    "view = BSS.Notebook.View(protein)\n",
    "view.system()"
   ]
  },
  {
   "cell_type": "markdown",
   "id": "9bb213d3",
   "metadata": {},
   "source": [
    "Unlike in other RBFE methods, a system used in ATM calculation includes both ligands simultaneously, with one ligand bound to the protein and the other free in the solvent. \n",
    "\n",
    "We will use BioSimSpace to create an ATM compatible system from the inputs loaded above, choosing which ligand is to be bound and which is to be free.\n",
    "\n",
    "One decision that needs to be made prior to creating an ATM compatible system is the choice of \"rigid core atoms\" within each ligand. These atoms are used to define a series of aligning forces that will be used to maintain the relative orientation of the two ligands during minimisation, equilibration and production simulations. \n",
    "\n",
    "Maintaining the orientation of the ligands is important to the stability of ATM simulations as, in the second half of production (i.e. windows with a lambda value greater than 0.5) the free and bound ligands will be swapped. If the free ligand is out of alignment during this swap it will cause direct overlaps with protein atoms, causing the simulations to immediately explode.\n",
    "\n",
    "BioSimSpace provides a helper function that visualises the choice of these atoms"
   ]
  },
  {
   "cell_type": "code",
   "execution_count": null,
   "id": "5df4bcb0-f493-44d3-92a7-2fdec29eb599",
   "metadata": {},
   "outputs": [],
   "source": [
    "BSS.FreeEnergy.ATMSetup.viewRigidCores(\n",
    "    ligand_bound=ligand_bound,\n",
    "    ligand_free=ligand_free,\n",
    "    ligand_bound_rigid_core=[14, 11, 15],\n",
    "    ligand_free_rigid_core=[14, 11, 15],\n",
    ")"
   ]
  },
  {
   "cell_type": "markdown",
   "id": "29e8c0f9-46fd-4577-95d0-551725dc7410",
   "metadata": {},
   "source": [
    "Making a good choice of rigid core atoms can be complex. A good starting point is to find a common core between your two ligands and choose three well-separated atoms within this common core. Before making your own choice of rigid core atoms it is highly recommended to read the guide on the Gallichio lab website [here](https://www.compmolbiophysbc.org/atom-openmm/atom-system-setup).\n",
    "\n",
    "Now that a sensible choice of rigid core atoms has been made we can now create the system using the `BioSimSpace.FreeEnergy.ATMSetup` class. "
   ]
  },
  {
   "cell_type": "code",
   "execution_count": null,
   "id": "1bdccb4f-84da-46a6-8995-5e1022c1af1e",
   "metadata": {},
   "outputs": [],
   "source": [
    "atm_setup = BSS.FreeEnergy.ATMSetup(\n",
    "    receptor=protein, ligand_bound=ligand_bound, ligand_free=ligand_free\n",
    ")\n",
    "system, atm_data = atm_setup.prepare(\n",
    "    ligand_bound_rigid_core=[14, 11, 15], ligand_free_rigid_core=[14, 11, 15]\n",
    ")"
   ]
  },
  {
   "cell_type": "markdown",
   "id": "ee090018-12c8-4fb8-bb9f-e5183c33d9f8",
   "metadata": {},
   "source": [
    "System preparation returns a pair of objects, the first is a system containing the protein and two ligands, the second is a dictionary containing information on the setup of the system that will be used to ensure that consistent settings are used throughout all simulations. \n",
    "\n",
    "By default, BioSimSpace attempts to find a best-fit vector along which to translate the free ligand relative to the bound, and then translates the free ligand along this vector by a distance of 20 Angstroms. The translation vector can also be set manually by passing a displacement vector to `atm_setup.prepare`.\n",
    "\n",
    "Now lets visualise the system to make sure that the free ligand is far enough away from the protein."
   ]
  },
  {
   "cell_type": "code",
   "execution_count": null,
   "id": "799a10ac-bd88-40e3-900d-bb5b2c781392",
   "metadata": {},
   "outputs": [],
   "source": [
    "view = BSS.Notebook.View(system)\n",
    "view.system()"
   ]
  },
  {
   "cell_type": "markdown",
   "id": "a6275c24-e28f-47a0-b7d2-055987be2cfd",
   "metadata": {},
   "source": [
    "Although it might appear that the free ligand is too close to the protein, we only really need 3 layers of water (roughly 10 Angrstroms) between the two in order to have good separation, and so the separation in our system should be enough. Also, the smaller the separation the smaller the water box we will need, and the faster our simulations will run.\n",
    "\n",
    "All that remains now is to solvate our protein-ligand-ligand system."
   ]
  },
  {
   "cell_type": "code",
   "execution_count": null,
   "id": "5b0da21b-4468-4dcd-8138-4bd0d51620c6",
   "metadata": {},
   "outputs": [],
   "source": [
    "solvated = BSS.Solvent.tip3p(molecule=system, box=3 * [7 * BSS.Units.Length.nanometer])"
   ]
  },
  {
   "cell_type": "markdown",
   "id": "4ecaa0ab-4436-43f7-b211-3529b9c78b84",
   "metadata": {},
   "source": [
    "# Minimisation and Equilibration"
   ]
  },
  {
   "cell_type": "markdown",
   "id": "e921c870-cb23-4b9e-b358-260f64b6218b",
   "metadata": {},
   "source": [
    "ATM simulations require a significant number of restraints, as well as the gradual introduction of the ATMForce itself. As such standard minimisation and equilibration protocols are not appropriate, and a series of custom protocols is needed. \n",
    "\n",
    "In this section we will cover a full minimisation and equilibration protocol for the ATM system we created above. \n",
    "\n",
    "The simulations we will run in this section are significantly cut down, real production simulations should be minimised and equilibrated much more thoroughly than we will here, with at least 10000 minimisation steps and 100ps of runtime for each equilibration. \n",
    "\n",
    "ATM simulations are best run with a series of restraints:\n",
    "- __core alignment__; these are the the rigid core restraints that are applied to the atoms we found earlier.\n",
    "- __positional restraints__; these are flat-bottom restraints used to keep specific atoms in place, these are generally applied to the alpha carbons of the protein.\n",
    "- __centre of mass distance restraints__; these are used to maintain the relative positions of the protein and ligands and are applied to the centre off mass of the atoms listed in the `data` dictionary (these were found automatically when we prepared the system, but they can be set manually if the ones found are not appropriate).\n",
    "\n",
    "Now let's find the alpha carbons that we will be restraining using BioSimSpace search functionality."
   ]
  },
  {
   "cell_type": "code",
   "execution_count": null,
   "id": "8727fdbb-305f-459a-b8c6-eb5a77424b36",
   "metadata": {},
   "outputs": [],
   "source": [
    "ca = [atom.index() for atom in solvated.search(\"atomname CA\")]"
   ]
  },
  {
   "cell_type": "markdown",
   "id": "4ab9036b-5cd8-40ee-b1e4-38dff16eb9d4",
   "metadata": {},
   "source": [
    "Now we can create a minimisation protocol using the forces and `atm_data` dictionary we created when setting up the system."
   ]
  },
  {
   "cell_type": "code",
   "execution_count": null,
   "id": "e1de322e-f178-444e-bfc7-8f5936182b96",
   "metadata": {},
   "outputs": [],
   "source": [
    "minimisation = BSS.Protocol.ATMMinimisation(\n",
    "    steps=200,\n",
    "    data=atm_data,\n",
    "    core_alignment=True,\n",
    "    restraint=ca,\n",
    "    com_distance_restraint=True,\n",
    ")"
   ]
  },
  {
   "cell_type": "markdown",
   "id": "56b04fa5-aa1e-4032-9ca6-e79a21240845",
   "metadata": {},
   "source": [
    "This protocol can then be run using the BioSimSpace OpenMM process. This minimisation may take a few minutes."
   ]
  },
  {
   "cell_type": "code",
   "execution_count": null,
   "id": "03f63303-98be-48b0-ba1a-3c82653a4c30",
   "metadata": {},
   "outputs": [],
   "source": [
    "minimisation_process = BSS.Process.OpenMM(solvated, minimisation)\n",
    "minimisation_process.start()\n",
    "minimisation_process.wait()\n",
    "minimised = minimisation_process.getSystem(block=True)"
   ]
  },
  {
   "cell_type": "markdown",
   "id": "31954b81-0307-42d3-8c4c-489a62be74c1",
   "metadata": {},
   "source": [
    "We will now run our first equilibration, including all of the forces we used in the minimisation. "
   ]
  },
  {
   "cell_type": "code",
   "execution_count": null,
   "id": "6760d38d-bc66-49a1-b909-395f798d9d5e",
   "metadata": {},
   "outputs": [],
   "source": [
    "equilibration = BSS.Protocol.ATMEquilibration(\n",
    "    data=atm_data,\n",
    "    core_alignment=True,\n",
    "    restraint=ca,\n",
    "    com_distance_restraint=True,\n",
    "    runtime=\"1ps\",\n",
    ")\n",
    "equilibrate_process = BSS.Process.OpenMM(minimised, equilibration)\n",
    "equilibrate_process.start()\n",
    "equilibrate_process.wait()\n",
    "equilibrated = equilibrate_process.getSystem(block=True)"
   ]
  },
  {
   "cell_type": "markdown",
   "id": "9d2da0d7-f7ee-45de-9af5-a54b2f03ba4c",
   "metadata": {},
   "source": [
    "The system has now been minimised and equilibrated as a vanilla system, that is without the ATMForce present. \n",
    "\n",
    "We now need to introduce the ATMForce to the system; this introduction needs to be gradual, otherwise our simulations will crash.\n",
    "\n",
    "This gradual introduction can be done by annealing the system to a lambda value of 0.5. Starting from lambda=0, the annealing protocol simulates a series of windows in which the value of lambda is gradually increased. In this case we will use 10 annealing cycles with a total runtime of 1ps, meaning that the value of lambda is increased by a value of 0.05 every 0.1ps.\n",
    "\n"
   ]
  },
  {
   "cell_type": "code",
   "execution_count": null,
   "id": "49bc267d-4578-407c-bac6-93761f9cea9f",
   "metadata": {},
   "outputs": [],
   "source": [
    "annealing = BSS.Protocol.ATMAnnealing(\n",
    "    data=atm_data,\n",
    "    core_alignment=True,\n",
    "    restraint=ca,\n",
    "    com_distance_restraint=True,\n",
    "    runtime=\"1ps\",\n",
    "    anneal_numcycles=10,\n",
    ")\n",
    "annealing_process = BSS.Process.OpenMM(equilibrated, annealing)\n",
    "annealing_process.start()\n",
    "annealing_process.wait()\n",
    "annealed = annealing_process.getSystem(block=True)"
   ]
  },
  {
   "cell_type": "markdown",
   "id": "a2ae2454-ff53-44df-843c-cf220ace99a3",
   "metadata": {},
   "source": [
    "Finally, we need to perform a post-annealing equilibration. This equilibration step is performed at a lambda value of 0.5, and is designed to introduce the free ligand to the protein-ligand complex without actually performing a swap. This step dramatically increases the stability of production simulations in which `ligand_free' is in the binding site (i.e. those with a lambda value greater than 0.5) by decreasing the probability of atom overlaps occurring when the ligand is placed in the binding site.\n",
    "\n",
    "When running full production simulations this is the step that ytou should look to first if you experience instability. It is usually advisable to run this post-annealing equilibration for at least 500ps to give the system enough time to settle."
   ]
  },
  {
   "cell_type": "code",
   "execution_count": null,
   "id": "e8b14066-c1a5-4e20-a492-75858031711b",
   "metadata": {},
   "outputs": [],
   "source": [
    "post_anneal_equilibration = BSS.Protocol.ATMEquilibration(\n",
    "    data=atm_data,\n",
    "    core_alignment=True,\n",
    "    restraint=ca,\n",
    "    com_distance_restraint=True,\n",
    "    use_atm_force=True,\n",
    "    lambda1=0.5,\n",
    "    lambda2=0.5,\n",
    "    runtime=\"1ps\",\n",
    ")\n",
    "post_anneal_equilibration_process = BSS.Process.OpenMM(\n",
    "    annealed, post_anneal_equilibration\n",
    ")\n",
    "post_anneal_equilibration_process.start()\n",
    "post_anneal_equilibration_process.wait()\n",
    "min_eq_final = post_anneal_equilibration_process.getSystem(block=True)"
   ]
  },
  {
   "cell_type": "markdown",
   "id": "b5b1a44f-e0de-4105-a7b2-c8643f24c136",
   "metadata": {},
   "source": [
    "Before proceeding, lets make sure our minimised and equilibrated system looks sensible"
   ]
  },
  {
   "cell_type": "code",
   "execution_count": null,
   "id": "3dff69b1-b13f-43b9-87df-120ad0751760",
   "metadata": {},
   "outputs": [],
   "source": [
    "view = BSS.Notebook.View(min_eq_final)\n",
    "view.system()"
   ]
  },
  {
   "cell_type": "markdown",
   "id": "3502a7ca-9df3-4e93-b995-b8ac03e5bad3",
   "metadata": {},
   "source": [
    "The example outputs that we downloaded earlier contain a version of this system that has been properly minimised and equilibrated. Let's visualise it and compare it to the system we've prepared ourselves. Provided that these two systems look similar, and most importantly that the two ligands are still in alignment, we should now be ready for production."
   ]
  },
  {
   "cell_type": "code",
   "execution_count": null,
   "id": "98b75b96-56c4-481e-a50e-94a913fae7f7",
   "metadata": {},
   "outputs": [],
   "source": [
    "check = BSS.Stream.load(\"tyk2_atm/ready_for_production.bss\")\n",
    "view1 = BSS.Notebook.View(check)\n",
    "view1.system()"
   ]
  },
  {
   "cell_type": "markdown",
   "id": "6a15fc87-790e-41c6-a483-a5431c364f09",
   "metadata": {},
   "source": [
    "# Production and Analysis"
   ]
  },
  {
   "cell_type": "markdown",
   "id": "9649d356-f490-421f-a55f-1984aa88e710",
   "metadata": {},
   "source": [
    "Now that the system has been properly minimised and equilibrated it is ready for production. \n",
    "\n",
    "Before running production simulations we need to decide how many lambda windows to run. Keep in mind that when performing an ATM calculation we are running the equivalent of all 4 legs (bound and free, forward and reverse) of a standard RBFE calculation simultaneously, so we should expect to have to run a larger number of windows.\n",
    "\n",
    "A good middle ground for most systems is 22 windows, and this is the default chosen by BioSimSpace, but some systems might need more sampling.\n",
    "\n",
    "For the TYK2 simulations we are running in this tutorial we will need to change some of the soft-core settings, as the BioSimSpace defaults are not appropriate."
   ]
  },
  {
   "cell_type": "code",
   "execution_count": null,
   "id": "ee77c61d-b656-445a-9473-6d108d06c1f0",
   "metadata": {},
   "outputs": [],
   "source": [
    "alpha = 22 * [0.1]\n",
    "uh = 22 * [110.0]\n",
    "output_directory = \"tyk2_atm\"\n",
    "production_atm = BSS.Protocol.ATMProduction(\n",
    "    data=atm_data,\n",
    "    core_alignment=True,\n",
    "    restraint=ca,\n",
    "    com_distance_restraint=True,\n",
    "    runtime=\"1ns\",\n",
    "    num_lambda=22,\n",
    "    alpha=alpha,\n",
    "    uh=uh,\n",
    ")"
   ]
  },
  {
   "cell_type": "markdown",
   "id": "c640be58-5713-40a8-8d59-62c11f2a6c34",
   "metadata": {},
   "source": [
    "We won't actually run any production simulations here, as they would take far too long, but if we did want to run production we could do so with this command: "
   ]
  },
  {
   "cell_type": "code",
   "execution_count": null,
   "id": "f0c7147f-e921-464b-aaca-35952e3ea1c8",
   "metadata": {},
   "outputs": [],
   "source": [
    "# production_process = BSS.FreeEnergy.ATM(\n",
    "#  system=min_eq_final,\n",
    "#  protocol=production_atm,\n",
    "#  work_dir=output_directory,\n",
    "# )"
   ]
  },
  {
   "cell_type": "markdown",
   "id": "ddcaee9b",
   "metadata": {},
   "source": [
    "Once production simulations are complete `output_directory` will be populated by a series of folders, one for each lambda window. Within each of these folders should be a file called `openmm.csv` which contains the information we need to calculate the $\\Delta \\Delta G$ value for our system. In this case we will be analysing the pre-prepared outputs that we downloaded earlier.\n",
    "\n",
    "In-built BioSimSpace analysis will give us a $\\Delta \\Delta G$ value in kcal/mol, along with the error, also in kcal/mol."
   ]
  },
  {
   "cell_type": "code",
   "execution_count": null,
   "id": "fc7ef553",
   "metadata": {},
   "outputs": [],
   "source": [
    "DDG = BSS.FreeEnergy.ATM.analyse(output_directory)\n",
    "DDG"
   ]
  }
 ],
 "metadata": {
  "kernelspec": {
   "display_name": "sireDEV",
   "language": "python",
   "name": "python3"
  },
  "language_info": {
   "codemirror_mode": {
    "name": "ipython",
    "version": 3
   },
   "file_extension": ".py",
   "mimetype": "text/x-python",
   "name": "python",
   "nbconvert_exporter": "python",
   "pygments_lexer": "ipython3"
  }
 },
 "nbformat": 4,
 "nbformat_minor": 5
}
